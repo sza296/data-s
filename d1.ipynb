{
  "nbformat": 4,
  "nbformat_minor": 0,
  "metadata": {
    "kernelspec": {
      "display_name": "Python 3",
      "language": "python",
      "name": "python3"
    },
    "language_info": {
      "codemirror_mode": {
        "name": "ipython",
        "version": 3
      },
      "file_extension": ".py",
      "mimetype": "text/x-python",
      "name": "python",
      "nbconvert_exporter": "python",
      "pygments_lexer": "ipython3",
      "version": "3.8.3"
    },
    "colab": {
      "name": "Copy of Data_Science_Day_1_Exercises-Day1- Homework.ipynb",
      "provenance": [],
      "collapsed_sections": [],
      "toc_visible": true
    }
  },
  "cells": [
    {
      "cell_type": "markdown",
      "metadata": {
        "id": "qp-sT9WVdVe2"
      },
      "source": [
        "# Exercises"
      ]
    },
    {
      "cell_type": "markdown",
      "metadata": {
        "id": "OT6ulf0QdVe5"
      },
      "source": [
        "### #1 - Calculate the BMI (body mass index) on the two lists below using NDArrays..."
      ]
    },
    {
      "cell_type": "code",
      "metadata": {
        "colab": {
          "base_uri": "https://localhost:8080/"
        },
        "id": "gui1mtD3dVe6",
        "outputId": "e94a942c-5626-4044-a510-bde4f961e997"
      },
      "source": [
        "import numpy as np\n",
        "# formula = weight / (height**2) * 730\n",
        "height = [69, 70, 71, 72, 73, 74, 75]\n",
        "weight = [110, 120, 130, 140, 150, 160, 170]\n",
        "\n",
        "# OUTPUT: [16.86620458 17.87755102 18.82562984 19.71450617 20.54794521 21.32943755\n",
        "# 22.06222222]\n",
        "\n",
        "weightList = np.array(weight)\n",
        "heightList = np.array(height)\n",
        "\n",
        "formula = weightList/(heightList**2) * 730\n",
        "formula\n",
        "\n"
      ],
      "execution_count": null,
      "outputs": [
        {
          "output_type": "execute_result",
          "data": {
            "text/plain": [
              "array([16.86620458, 17.87755102, 18.82562984, 19.71450617, 20.54794521,\n",
              "       21.32943755, 22.06222222])"
            ]
          },
          "metadata": {
            "tags": []
          },
          "execution_count": 4
        }
      ]
    },
    {
      "cell_type": "markdown",
      "metadata": {
        "id": "HOjP9z0LdVe7"
      },
      "source": [
        "### #2 - Create a function that will take in two parameters and will create a random matrix based off of those parameters. Extra: Have additional parameters taken in that allow the user to choose the shape and data type of the matrix."
      ]
    },
    {
      "cell_type": "code",
      "metadata": {
        "colab": {
          "base_uri": "https://localhost:8080/"
        },
        "id": "pwsSfmfDdVe7",
        "outputId": "1cc8869c-2b42-4b81-9b7c-90427d4eaa59"
      },
      "source": [
        "\"\"\"\n",
        "Example Result\n",
        "array([[14.21633515,  7.98846653,  9.64140715],\n",
        "       [ 6.30982234,  9.96414331,  8.43153688],\n",
        "       [14.73102068, 11.76072894, 14.23356121]])\n",
        "\"\"\"\n",
        "# def makeMatrix(low,high,shape,data_type = float): -- Example\n",
        "\n",
        "def matrixMaker(start,end,numbers,shape):\n",
        "  randomMatrix=np.random.uniform(start,end,numbers)\n",
        "  randomMatrix=randomMatrix.reshape(shape)\n",
        "\n",
        "  return randomMatrix\n",
        "\n",
        "matrixMaker(1,5,6,(2,3))\n",
        "\n",
        "#     pass"
      ],
      "execution_count": null,
      "outputs": [
        {
          "output_type": "execute_result",
          "data": {
            "text/plain": [
              "array([[1.92383692, 3.2647787 , 4.58545729],\n",
              "       [4.51139393, 2.16716913, 1.36585149]])"
            ]
          },
          "metadata": {
            "tags": []
          },
          "execution_count": 5
        }
      ]
    },
    {
      "cell_type": "markdown",
      "metadata": {
        "id": "POBmq4n_dVe7"
      },
      "source": [
        "### #3 - Open and load the data in the two text files that have the Boston Red Sox hitting data for the past seasons. Compare the difference in the two years by putting the data into an NDArray and running a differencial operation on it. The column to look for will be SLG.\n",
        "\n",
        "Your output should display which year (either 2017 or 2018) was a better year based on SLG"
      ]
    },
    {
      "cell_type": "code",
      "metadata": {
        "colab": {
          "base_uri": "https://localhost:8080/"
        },
        "id": "aWjlZzxSdVe8",
        "outputId": "871dc8e0-fade-4d9b-bfab-44240c08ba02"
      },
      "source": [
        "import csv\n",
        "import numpy as np\n",
        "import itertools\n",
        "\n",
        "def load_data(filename, d = ','):\n",
        "    data = np.genfromtxt(filename, delimiter = d, skip_header = 1,\n",
        "                        usecols = np.arange(0,24), invalid_raise = False,\n",
        "                        names = FIELDS, dtype = DATATYPES)\n",
        "    return data\n",
        "\n",
        "red17 = load_data('/content/redsox_2017_hitting.txt')\n",
        "red18 = load_data('/content/redsox_2018_hitting.txt')\n",
        "\n",
        "\n",
        "#Test to make sure you have the correct data\n",
        "print(red17[1:5])\n",
        "print(red18[1:5])\n",
        "slg17=red17['SLG']\n",
        "slg17"
      ],
      "execution_count": null,
      "outputs": [
        {
          "output_type": "stream",
          "text": [
            "[(2, b'1B', b'Mitch Moreland', 31, 149, 576, 508, 73, 125, 34, 0, 22, 79,  0, 1, 57, 120, 0.246, 0.326, 0.443, 0.769,  99, 225, 14)\n",
            " (3, b'2B', b'Dustin Pedroia', 33, 105, 463, 406, 46, 119, 19, 0,  7, 62,  4, 3, 49,  48, 0.293, 0.369, 0.392, 0.76 , 100, 159, 11)\n",
            " (4, b'SS', b'Xander Bogaerts', 24, 148, 635, 571, 94, 156, 32, 6, 10, 62, 15, 1, 56, 116, 0.273, 0.343, 0.403, 0.746,  95, 230, 17)\n",
            " (5, b'3B', b'Rafael Devers', 20,  58, 240, 222, 34,  63, 14, 0, 10, 30,  3, 1, 18,  57, 0.284, 0.338, 0.482, 0.819, 111, 107,  5)]\n",
            "[(2, b'1B', b'Mitch Moreland', 32, 124, 459, 404, 57,  99, 23, 4, 15,  68, 2, 0, 50, 102, 0.245, 0.325, 0.433, 0.758, 102, 175, 12)\n",
            " (3, b'2B', b'Eduardo Nunez', 31, 127, 502, 480, 56, 127, 23, 3, 10,  44, 7, 2, 16,  69, 0.265, 0.289, 0.388, 0.677,  81, 186, 17)\n",
            " (4, b'SS', b'Xander Bogaerts', 25, 136, 580, 513, 72, 148, 45, 3, 23, 103, 8, 2, 55, 102, 0.288, 0.36 , 0.522, 0.883, 135, 268, 14)\n",
            " (5, b'3B', b'Rafael Devers', 21, 121, 490, 450, 59, 108, 24, 0, 21,  66, 5, 2, 38, 121, 0.24 , 0.298, 0.433, 0.731,  94, 195,  9)]\n"
          ],
          "name": "stdout"
        },
        {
          "output_type": "execute_result",
          "data": {
            "text/plain": [
              "array([0.404, 0.443, 0.392, 0.403, 0.482, 0.424, 0.402, 0.459, 0.429,\n",
              "       0.354, 0.387, 0.333, 0.539, 0.243, 0.262, 0.354, 0.342, 0.339,\n",
              "       0.328, 0.306, 0.222, 0.2  , 1.   ], dtype=float32)"
            ]
          },
          "metadata": {
            "tags": []
          },
          "execution_count": 3
        }
      ]
    },
    {
      "cell_type": "code",
      "metadata": {
        "id": "IO1B-ZrMdVe8"
      },
      "source": [
        "FIELDS = ['Rk', 'Pos', 'Name', 'Age', 'G', 'PA', 'AB', 'R', 'H', '2B', '3B', 'HR', 'RBI', 'SB', 'CS', \n",
        "          'BB', 'SO', 'BA', 'OBP', 'SLG', 'OPS', 'OPS+', 'TB', 'GDP', 'HBP', 'SH', 'SF', 'IBB']\n",
        "\n",
        "DATATYPES = [('rk', 'i'), ('pos', '|S25'), ('name', '|S25'), ('age', 'i'), ('g', 'i'), ('pa', 'i'), ('ab', 'i'),\n",
        "                ('r', 'i'), ('h', 'i'), ('2b', 'i'), ('3b', 'i'), ('hr', 'i'), ('rbi', 'i'), ('sb', 'i'), ('cs', 'i'),\n",
        "                ('bb', 'i'), ('so', 'i'), ('ba', 'f'), ('obp', 'f'), ('slg', 'f'), ('ops', 'f'), ('opsp', 'i'),\n",
        "                ('tb', 'i'), ('gdp', 'i'), ('hbp', 'i'), ('sh', 'i'), ('sf', 'i'), ('ibb', 'i')]\n",
        "\n",
        "#Use this function to actually open the data inside of a NDArray\n",
        "def better_year(cat):\n",
        "  result=[]\n",
        "  result17=[]\n",
        "  result18=[]\n",
        "  year=0\n",
        "  slg17=red17[cat]\n",
        "  slg18=red18[cat]\n",
        "\n",
        "  for i,k in zip(slg17, slg18):\n",
        "    if slg17[i] > slg18[k]:\n",
        "      result17.append(slg17[i])\n",
        "    elif slg17[i] < slg18[k]:\n",
        "      result18.append(slg18[k])\n",
        "    else:\n",
        "      pass\n",
        "    \n",
        "  if len(result17)>len(result18):\n",
        "    print('Boston 17 had more SLG in 2017 \\n')\n",
        "    result=result17\n",
        "    year = 17\n",
        "  elif len(result17)<len(result18):\n",
        "    print('Boston 18 had more SLG in 2018 \\n')\n",
        "    result=result18\n",
        "    year = 18\n",
        "  else:\n",
        "    print('both years had the same SLG')\n",
        "\n",
        "\n",
        "  return print('Boston 18 had more SLG in ', year ,'\\n',result)\n",
        "    \n",
        "\"\"\"\n",
        "Example Result - Not the actual result\n",
        "Boston 18 had more SLG in 2018\n",
        "[0.404 0.443 0.392 0.403 0.482 0.424 0.402 0.459 0.429 0.354 0.387 0.333\n",
        " 0.539 0.243 0.262 0.354 0.342 0.339 0.328 0.306 0.222 0.2   1.   ]\n",
        "\"\"\"\n",
        "\n",
        "better_year('SLG')\n"
      ],
      "execution_count": null,
      "outputs": []
    },
    {
      "cell_type": "code",
      "metadata": {
        "id": "zQifsFW5dVe-"
      },
      "source": [
        ""
      ],
      "execution_count": null,
      "outputs": []
    }
  ]
}